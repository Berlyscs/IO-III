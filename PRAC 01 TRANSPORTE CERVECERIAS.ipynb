{
 "cells": [
  {
   "cell_type": "code",
   "execution_count": 14,
   "id": "ecf60d54",
   "metadata": {},
   "outputs": [],
   "source": [
    "### Bibliotecas \n",
    "# instalar pulp: pip install pulp\n",
    "import pandas as np\n",
    "from pulp import *\n",
    "from pandas import DataFrame"
   ]
  },
  {
   "cell_type": "code",
   "execution_count": 27,
   "id": "de12aa16",
   "metadata": {},
   "outputs": [],
   "source": [
    "### Ciudades\n",
    "origen = ['A','B']\n",
    "destino = ['1','2','3','4','5']"
   ]
  },
  {
   "cell_type": "code",
   "execution_count": 28,
   "id": "c3642dc8",
   "metadata": {},
   "outputs": [],
   "source": [
    "oferta = {'A': 1000, 'B' : 4000}\n",
    "demanda = {'1': 500, '2' : 900, '3' : 1800, '4' : 200, '5' : 700}"
   ]
  },
  {
   "cell_type": "code",
   "execution_count": 29,
   "id": "4b1bdbc8",
   "metadata": {},
   "outputs": [],
   "source": [
    "costo_envio ={'A':{'1': 2, '2' : 4, '3' : 5, '4' : 2, '5' : 1},\n",
    "             'B':{'1': 3, '2' : 1, '3' : 3, '4' : 2, '5' : 3}}"
   ]
  },
  {
   "cell_type": "code",
   "execution_count": 30,
   "id": "7bf020e4",
   "metadata": {},
   "outputs": [],
   "source": [
    "### Resolviendo el problema\n",
    "### Declaramos la función objetivo... nota que buscamos minimizar el costo(LpMinimize)\n",
    "prob = LpProblem('Transporte', LpMinimize)"
   ]
  },
  {
   "cell_type": "code",
   "execution_count": 31,
   "id": "265a0f1f",
   "metadata": {},
   "outputs": [],
   "source": [
    "rutas = [(i,j) for i in origen for j in destino]"
   ]
  },
  {
   "cell_type": "code",
   "execution_count": 32,
   "id": "7c16c836",
   "metadata": {},
   "outputs": [],
   "source": [
    "cantidad = LpVariable.dicts('Cantidad de Envio',(origen,destino),0)"
   ]
  },
  {
   "cell_type": "code",
   "execution_count": 33,
   "id": "77e72f37",
   "metadata": {},
   "outputs": [],
   "source": [
    "prob += lpSum(cantidad[i][j]*costo_envio[i][j] for (i,j) in rutas)"
   ]
  },
  {
   "cell_type": "code",
   "execution_count": 34,
   "id": "ed18fbf1",
   "metadata": {},
   "outputs": [],
   "source": [
    "for j in destino:\n",
    "    prob += lpSum(cantidad[i][j] for i in origen) == demanda[j]"
   ]
  },
  {
   "cell_type": "code",
   "execution_count": 35,
   "id": "ded69476",
   "metadata": {},
   "outputs": [],
   "source": [
    "for i in origen:\n",
    "    prob += lpSum(cantidad[i][j] for j in destino) <= oferta[i]"
   ]
  },
  {
   "cell_type": "code",
   "execution_count": 36,
   "id": "b9ef27fa",
   "metadata": {},
   "outputs": [
    {
     "name": "stdout",
     "output_type": "stream",
     "text": [
      "Status: Optimal\n"
     ]
    }
   ],
   "source": [
    "### Resolvemos e imprimimos el Status, si es Optimo, el problema tiene solución.\n",
    "prob.solve()\n",
    "print(\"Status:\", LpStatus[prob.status])"
   ]
  },
  {
   "cell_type": "code",
   "execution_count": 37,
   "id": "e46ac488",
   "metadata": {},
   "outputs": [
    {
     "name": "stdout",
     "output_type": "stream",
     "text": [
      "Cantidad_de_Envio_A_1 = 300.0\n",
      "Cantidad_de_Envio_A_5 = 700.0\n",
      "Cantidad_de_Envio_B_1 = 200.0\n",
      "Cantidad_de_Envio_B_2 = 900.0\n",
      "Cantidad_de_Envio_B_3 = 1800.0\n",
      "Cantidad_de_Envio_B_4 = 200.0\n",
      "El costo mínimo es: 8600.0\n"
     ]
    }
   ],
   "source": [
    "\n",
    "### Imprimimos la solución\n",
    "for v in prob.variables():\n",
    "    if v.varValue > 0:\n",
    "        print(v.name, \"=\", v.varValue)\n",
    "print('El costo mínimo es:', value(prob.objective))"
   ]
  },
  {
   "cell_type": "code",
   "execution_count": null,
   "id": "2b6f1e2d",
   "metadata": {},
   "outputs": [],
   "source": []
  },
  {
   "cell_type": "code",
   "execution_count": null,
   "id": "bef12437",
   "metadata": {},
   "outputs": [],
   "source": []
  },
  {
   "cell_type": "code",
   "execution_count": null,
   "id": "afc3d247",
   "metadata": {},
   "outputs": [],
   "source": []
  },
  {
   "cell_type": "code",
   "execution_count": null,
   "id": "7f9e58ff",
   "metadata": {},
   "outputs": [],
   "source": []
  }
 ],
 "metadata": {
  "kernelspec": {
   "display_name": "Python 3",
   "language": "python",
   "name": "python3"
  },
  "language_info": {
   "codemirror_mode": {
    "name": "ipython",
    "version": 3
   },
   "file_extension": ".py",
   "mimetype": "text/x-python",
   "name": "python",
   "nbconvert_exporter": "python",
   "pygments_lexer": "ipython3",
   "version": "3.8.8"
  }
 },
 "nbformat": 4,
 "nbformat_minor": 5
}
