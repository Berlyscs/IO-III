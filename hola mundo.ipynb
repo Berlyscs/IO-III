{
 "cells": [
  {
   "cell_type": "code",
   "execution_count": 2,
   "id": "01ae5122",
   "metadata": {},
   "outputs": [
    {
     "name": "stdout",
     "output_type": "stream",
     "text": [
      "hola mundo\n"
     ]
    }
   ],
   "source": [
    "print(\"hola mundo\");"
   ]
  },
  {
   "cell_type": "code",
   "execution_count": 6,
   "id": "8057acdf",
   "metadata": {},
   "outputs": [
    {
     "name": "stdout",
     "output_type": "stream",
     "text": [
      "Detalles de la fecha y hora actual\n",
      "2021-09-02 19:51:18.440766\n",
      "19:51:18.440766\n",
      "2021-09-02\n",
      "Hora:  19 Minuto:  51 Segundo:  18\n",
      "2021 9 2\n"
     ]
    }
   ],
   "source": [
    "import datetime\n",
    "\n",
    "hora_fecha_actual = datetime.datetime.now()\n",
    "\n",
    "hora = hora_fecha_actual.time()\n",
    "fecha = hora_fecha_actual.date()\n",
    "\n",
    "print(\"Detalles de la fecha y hora actual\")\n",
    "print(hora_fecha_actual)\n",
    "print(hora)\n",
    "print(fecha)\n",
    "\n",
    "print(\"Hora: \",hora.hour,\"Minuto: \",hora.minute, \"Segundo: \", hora.second)\n",
    "print(fecha.year, fecha.month, fecha.day)"
   ]
  },
  {
   "cell_type": "code",
   "execution_count": 7,
   "id": "e3ca52d1",
   "metadata": {},
   "outputs": [
    {
     "name": "stdout",
     "output_type": "stream",
     "text": [
      "Número de procesadores:  4\n"
     ]
    }
   ],
   "source": [
    "import multiprocessing as mp\n",
    "print(\"Número de procesadores: \", mp.cpu_count())\n"
   ]
  },
  {
   "cell_type": "code",
   "execution_count": 8,
   "id": "5b24f0d5",
   "metadata": {},
   "outputs": [
    {
     "data": {
      "text/plain": [
       "[[3, 1, 8, 0, 6],\n",
       " [3, 8, 0, 6, 5],\n",
       " [4, 9, 1, 3, 5],\n",
       " [4, 0, 0, 7, 2],\n",
       " [9, 5, 7, 9, 4]]"
      ]
     },
     "execution_count": 8,
     "metadata": {},
     "output_type": "execute_result"
    }
   ],
   "source": [
    "import numpy as np\n",
    "from time import time\n",
    "np.random.RandomState(100)\n",
    "arr = np.random.randint(0, 10, size=[200000, 5])\n",
    "data = arr.tolist()\n",
    "data[:5]"
   ]
  },
  {
   "cell_type": "code",
   "execution_count": null,
   "id": "f13c8104",
   "metadata": {},
   "outputs": [],
   "source": []
  }
 ],
 "metadata": {
  "kernelspec": {
   "display_name": "Python 3",
   "language": "python",
   "name": "python3"
  },
  "language_info": {
   "codemirror_mode": {
    "name": "ipython",
    "version": 3
   },
   "file_extension": ".py",
   "mimetype": "text/x-python",
   "name": "python",
   "nbconvert_exporter": "python",
   "pygments_lexer": "ipython3",
   "version": "3.8.8"
  }
 },
 "nbformat": 4,
 "nbformat_minor": 5
}
